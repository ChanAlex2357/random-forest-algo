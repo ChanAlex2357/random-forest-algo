{
 "cells": [
  {
   "cell_type": "code",
   "execution_count": 3,
   "metadata": {},
   "outputs": [],
   "source": [
    "import numpy as np\n",
    "import pandas as pd"
   ]
  },
  {
   "cell_type": "markdown",
   "metadata": {},
   "source": [
    "# Numerisation"
   ]
  },
  {
   "cell_type": "code",
   "execution_count": 4,
   "metadata": {},
   "outputs": [],
   "source": [
    "def load_data_from_csv(csv_path:str):\n",
    "    data = pd.read_csv(csv_path)\n",
    "    return data"
   ]
  },
  {
   "cell_type": "code",
   "execution_count": 5,
   "metadata": {},
   "outputs": [],
   "source": [
    "def encodage(data,indexes:list,encode_rules):\n",
    "    ''' Permet de faire l'encodage des donnees \n",
    "        ARGS\n",
    "            - data : la liste des donnees\n",
    "            - indexes : la listes des colonnes a encoder\n",
    "            - encode_rules : un dictionaire des regles a suivre pour encodes la valeur des donnees\n",
    "    '''\n",
    "    for i in range(len(data)):\n",
    "        for index in indexes:\n",
    "            value = data.loc[i,index]\n",
    "            try:\n",
    "                value = encode_rules[index][value]\n",
    "            except :\n",
    "                value = encode_rules[value]\n",
    "            data.loc[i,index] = value"
   ]
  },
  {
   "cell_type": "markdown",
   "metadata": {},
   "source": [
    "# Main"
   ]
  },
  {
   "cell_type": "code",
   "execution_count": null,
   "metadata": {},
   "outputs": [],
   "source": [
    "# Recuperation des donnees"
   ]
  },
  {
   "cell_type": "code",
   "execution_count": null,
   "metadata": {},
   "outputs": [],
   "source": []
  }
 ],
 "metadata": {
  "kernelspec": {
   "display_name": "Python 3",
   "language": "python",
   "name": "python3"
  },
  "language_info": {
   "codemirror_mode": {
    "name": "ipython",
    "version": 3
   },
   "file_extension": ".py",
   "mimetype": "text/x-python",
   "name": "python",
   "nbconvert_exporter": "python",
   "pygments_lexer": "ipython3",
   "version": "3.10.12"
  }
 },
 "nbformat": 4,
 "nbformat_minor": 2
}
