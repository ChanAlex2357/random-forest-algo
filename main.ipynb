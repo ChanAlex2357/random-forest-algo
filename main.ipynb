{
 "cells": [
  {
   "cell_type": "code",
   "execution_count": 1602,
   "metadata": {},
   "outputs": [],
   "source": [
    "import pandas as pd\n",
    "import numpy as np\n",
    "import math"
   ]
  },
  {
   "cell_type": "markdown",
   "metadata": {},
   "source": [
    "# I. Numereisation"
   ]
  },
  {
   "cell_type": "markdown",
   "metadata": {},
   "source": [
    "## 1. Recuperation de donnee"
   ]
  },
  {
   "cell_type": "code",
   "execution_count": 1603,
   "metadata": {},
   "outputs": [],
   "source": [
    "def load_data_from_csv(csv_path:str):\n",
    "    data = pd.read_csv(csv_path)\n",
    "    return data"
   ]
  },
  {
   "cell_type": "markdown",
   "metadata": {},
   "source": [
    "## 2. Encodage"
   ]
  },
  {
   "cell_type": "code",
   "execution_count": 1604,
   "metadata": {},
   "outputs": [],
   "source": [
    "def encodage(data,indexes:list,encode_rules):\n",
    "    ''' Permet de faire l'encodage des donnees \n",
    "        ARGS\n",
    "            - data : la liste des donnees\n",
    "            - indexes : la listes des colonnes a encoder\n",
    "            - encode_rules : un dictionaire des regles a suivre pour encodes la valeur des donnees\n",
    "    '''\n",
    "    for i in range(len(data)):\n",
    "        for index in indexes:\n",
    "            value = data.loc[i,index]\n",
    "            try:\n",
    "                value = encode_rules[index][value]\n",
    "            except :\n",
    "                value = encode_rules[value]\n",
    "            data.loc[i,index] = value"
   ]
  },
  {
   "cell_type": "markdown",
   "metadata": {},
   "source": [
    "# II. Entropie"
   ]
  },
  {
   "cell_type": "code",
   "execution_count": 1605,
   "metadata": {},
   "outputs": [],
   "source": [
    "def entopie_piece(repetion:int,total:int):\n",
    "    result = repetion / total\n",
    "    return result"
   ]
  },
  {
   "cell_type": "code",
   "execution_count": 1606,
   "metadata": {},
   "outputs": [],
   "source": [
    "def entropie(data:pd.DataFrame,class_attribute:str):\n",
    "    ''' Etablir l'entropie a partir d'une colonne de classe \n",
    "        PARAMETERS :\n",
    "            - data : les donnees pour etablir l'entropie\n",
    "            - class_attribute : Le nom de la colonne qui represente les donnee pour l'entropie\n",
    "        RETURN :\n",
    "            - entropie , la valeur entropique des donnees par rapport au colonne donnee\n",
    "    '''\n",
    "    # Le nombre total de donnee\n",
    "    data_lenght = len(data)\n",
    "    # Recuperer les valeurs de la classe\n",
    "    class_values = data[class_attribute]\n",
    "    # Recupere en unique les valeur de la class\n",
    "    class_unique_values = set(class_values)\n",
    "    # Calculer la repetions de chacunes des valeurs parmi les donnees\n",
    "    repetitions = {\n",
    "        valeur: class_values.tolist().count(valeur) \n",
    "        for valeur in class_unique_values\n",
    "    }\n",
    "    # Le resultat attendue\n",
    "    entropie = 0\n",
    "    # Calcul de l'entropie\n",
    "    for value in class_unique_values:\n",
    "        # La piece entropique de la valeur\n",
    "        pc = entopie_piece(repetitions[value],data_lenght)\n",
    "        # Incrementation de la somme\n",
    "        it = -(pc) * math.log2(pc)\n",
    "        entropie += it\n",
    "    return entropie"
   ]
  },
  {
   "cell_type": "markdown",
   "metadata": {},
   "source": [
    "# III. Meilleure Caracteristique"
   ]
  },
  {
   "cell_type": "markdown",
   "metadata": {},
   "source": [
    "## 1. Gain"
   ]
  },
  {
   "cell_type": "markdown",
   "metadata": {},
   "source": [
    "### 1.1. Separation de donnee"
   ]
  },
  {
   "cell_type": "code",
   "execution_count": 1607,
   "metadata": {},
   "outputs": [],
   "source": [
    "def split_data(dataframe,colonne):\n",
    "    \"\"\"\n",
    "    Sépare les données d'un DataFrame selon une colonne spécifique en regroupant les mêmes critères.\n",
    "\n",
    "    Parameters:\n",
    "    dataframe (pd.DataFrame): Le DataFrame contenant les données.\n",
    "    colonne (str): Le nom de la colonne selon laquelle séparer les données.\n",
    "\n",
    "    Returns:\n",
    "    dict: Un dictionnaire où les clés sont les valeurs uniques de la colonne et les valeurs sont les DataFrames correspondants.\n",
    "    \"\"\"\n",
    "    groupes = dataframe.groupby(colonne)\n",
    "    resultats = {nom: groupe for nom , groupe in groupes}\n",
    "    return resultats"
   ]
  },
  {
   "cell_type": "markdown",
   "metadata": {},
   "source": [
    "### 1.2. Fonction de gain"
   ]
  },
  {
   "cell_type": "code",
   "execution_count": 1608,
   "metadata": {},
   "outputs": [],
   "source": [
    "def gain(data:pd.DataFrame,ref_attribute:str,class_attribute:str):\n",
    "    # Entropie de l'ensemble du data\n",
    "    entropie_S = entropie(data,class_attribute)\n",
    "    # Le gain attendue\n",
    "    gain = entropie_S\n",
    "    # Le nombre de donnee total\n",
    "    nS = len(data)\n",
    "    # Separation des donnees en plusieurs sous section de donnee\n",
    "    data_sv = split_data(data,ref_attribute)\n",
    "    for index, data_part in data_sv.items():\n",
    "        # Le nombre de sous section\n",
    "        nSv = len(data_part)\n",
    "        sv = nSv/nS\n",
    "        # Entropie du sous section\n",
    "        entropie_SV = entropie(data_part,class_attribute)\n",
    "\n",
    "        gain -= sv*entropie_SV\n",
    "    return gain"
   ]
  },
  {
   "cell_type": "markdown",
   "metadata": {},
   "source": [
    "## 2. Calculs des GAINS"
   ]
  },
  {
   "cell_type": "code",
   "execution_count": 1609,
   "metadata": {},
   "outputs": [],
   "source": [
    "def gains(data:pd.DataFrame,class_attribute:str):\n",
    "    ''' \n",
    "        Calcul des gains pour chaque critere present parmi les donnees\n",
    "        ARGS :\n",
    "            - data : la liste des donnees d'entrainement\n",
    "            - class_attribute : le nom de la colonne qui prescise la class des donees\n",
    "        RETURNS :\n",
    "            - gains , tableau des couples ( nom critere , gain )\n",
    "    '''\n",
    "    # Resulats > Liste des gains\n",
    "    gains = list()\n",
    "    # Recuperation des criteres possibles\n",
    "    indexes = data.columns\n",
    "    for index in indexes :\n",
    "        if index == class_attribute:\n",
    "            continue\n",
    "        gains.append({index : gain(data,index,class_attribute)})\n",
    "    return gains"
   ]
  },
  {
   "cell_type": "markdown",
   "metadata": {},
   "source": [
    "## 3. Best collumn"
   ]
  },
  {
   "cell_type": "code",
   "execution_count": 1610,
   "metadata": {},
   "outputs": [],
   "source": [
    "def find_best_criteria(data:pd.DataFrame,class_attribute:str):\n",
    "    '''\n",
    "        Calcul le gain d'information de chaque critere de donnee pour determiner le meilleur parmi eux\n",
    "        ARGS :\n",
    "            - data : la liste des donnees d'entrainement\n",
    "            - class_attribute : le nom de la colonne qui prescise la class des donees\n",
    "        RETURNS :\n",
    "            - criteria , le nom du critere qui possede le gain la plus haute apres filtre decroissante\n",
    "    '''\n",
    "    # Recuperation des gains pour chaque criteres\n",
    "    gains_var = gains(data,class_attribute)\n",
    "    # Filtrer decroissant\n",
    "    gains_sorted = sorted(gains_var, key=lambda d : list(d.values())[0])\n",
    "    gains_sorted.reverse()\n",
    "    return [criteria for criteria , gain_value in gains_sorted[0].items()][0]"
   ]
  },
  {
   "cell_type": "markdown",
   "metadata": {},
   "source": [
    "# IV. ARBRE"
   ]
  },
  {
   "cell_type": "markdown",
   "metadata": {},
   "source": [
    "## 1. Creation d'un arbre"
   ]
  },
  {
   "cell_type": "code",
   "execution_count": 1611,
   "metadata": {},
   "outputs": [],
   "source": [
    "def generate_tree_branch(splited_data,class_attribute):\n",
    "    branch = {}\n",
    "    for key in splited_data.keys():\n",
    "        # Data de chaque section\n",
    "        data_part = splited_data[key]\n",
    "        # On verifie l'entropie \n",
    "        data_entropie = entropie(data_part,class_attribute)\n",
    "        if data_entropie == 0:\n",
    "            # Pour une entropie homogene\n",
    "            data_class = np.array(data_part[class_attribute])[0]\n",
    "            branch[key] = data_class\n",
    "        else :\n",
    "            branch[key] = generate_tree_body(data_part,class_attribute)\n",
    "    return branch"
   ]
  },
  {
   "cell_type": "code",
   "execution_count": 1612,
   "metadata": {},
   "outputs": [],
   "source": [
    "def generate_tree_body(data:pd.DataFrame,class_attribute:str):\n",
    "    # Recuperer le meilleur critre\n",
    "    best_criteria = find_best_criteria(data,class_attribute)\n",
    "    # The tree decision\n",
    "    tree_body = {\n",
    "        'body_name':best_criteria\n",
    "    }\n",
    "    # Diviser en sous section des donnees du best criteria\n",
    "    splited_data = split_data(data,best_criteria)\n",
    "    # Generate the branches of the body\n",
    "    tree_body['branch'] = generate_tree_branch(splited_data,class_attribute)\n",
    "    return tree_body"
   ]
  },
  {
   "cell_type": "code",
   "execution_count": 1613,
   "metadata": {},
   "outputs": [],
   "source": [
    "def generate_tree(data:pd.DataFrame,class_attribute:str):\n",
    "    # The tree decision\n",
    "    tree = {\n",
    "        'class_name':class_attribute,\n",
    "        'tree_body':generate_tree_body(data,class_attribute)\n",
    "    }\n",
    "    return tree"
   ]
  },
  {
   "cell_type": "markdown",
   "metadata": {},
   "source": [
    "## 2. Prise de decision"
   ]
  },
  {
   "cell_type": "code",
   "execution_count": 1614,
   "metadata": {},
   "outputs": [],
   "source": [
    "def get_tree_body_class_result(data:object,tree_body:dict):\n",
    "    body_name = tree_body['body_name']\n",
    "    branch  = tree_body['branch']\n",
    "    # Recuperer le chemin logique du donnee dans l'arbre\n",
    "    branch_path = data[body_name]\n",
    "    class_result = branch[branch_path]\n",
    "    if type(class_result) ==  dict:\n",
    "        class_result = get_tree_body_class_result(data,class_result)\n",
    "    return class_result"
   ]
  },
  {
   "cell_type": "code",
   "execution_count": 1615,
   "metadata": {},
   "outputs": [],
   "source": [
    "def get_class_by_tree(data:object,tree:dict):\n",
    "    # La class a determiner\n",
    "    data_class = None\n",
    "    tree_body = tree['tree_body']\n",
    "    data_class = get_tree_body_class_result(data,tree_body)\n",
    "    return data_class"
   ]
  },
  {
   "cell_type": "markdown",
   "metadata": {},
   "source": [
    "# V. FOREST"
   ]
  },
  {
   "cell_type": "markdown",
   "metadata": {},
   "source": [
    "## 1. Shuffle Data"
   ]
  },
  {
   "cell_type": "code",
   "execution_count": 1616,
   "metadata": {},
   "outputs": [],
   "source": [
    "def shuffle_data(dataframe:pd.DataFrame):\n",
    "    \"\"\"\n",
    "        Retourne une copie mélangée d'un DataFrame.\n",
    "\n",
    "        Parameters:\n",
    "        dataframe (pd.DataFrame): Le DataFrame contenant les données.\n",
    "\n",
    "        Returns:\n",
    "        pd.DataFrame: Une copie mélangée du DataFrame.\n",
    "    \"\"\"\n",
    "    # Mélanger les lignes du DataFrame\n",
    "    dataframe_melange = dataframe.sample(frac=1, random_state=1).reset_index(drop=True)\n",
    "    return dataframe_melange"
   ]
  },
  {
   "cell_type": "markdown",
   "metadata": {},
   "source": [
    "## 2. Data select "
   ]
  },
  {
   "cell_type": "code",
   "execution_count": 1617,
   "metadata": {},
   "outputs": [],
   "source": [
    "def data_select(dataframe:pd.DataFrame, pourcentage:int):\n",
    "    \"\"\"\n",
    "    Récupère un pourcentage donné de lignes d'un DataFrame.\n",
    "\n",
    "    Parameters:\n",
    "    dataframe (pd.DataFrame): Le DataFrame contenant les données.\n",
    "    pourcentage (float): Le pourcentage de lignes à récupérer (entre 0 et 100).\n",
    "\n",
    "    Returns:\n",
    "    pd.DataFrame: Un DataFrame contenant le pourcentage spécifié de lignes.\n",
    "    \"\"\"\n",
    "    if pourcentage < 0 or pourcentage > 100:\n",
    "        raise ValueError(\"Le pourcentage doit être entre 0 et 100.\")\n",
    "    \n",
    "    # Calcul du nombre de lignes à récupérer\n",
    "    nombre_lignes = int(len(dataframe) * (pourcentage / 100))\n",
    "    \n",
    "    # Sélection aléatoire des lignes\n",
    "    echantillon = dataframe.sample(nombre_lignes)\n",
    "    \n",
    "    return echantillon"
   ]
  },
  {
   "cell_type": "markdown",
   "metadata": {},
   "source": [
    "## 3. Random data select"
   ]
  },
  {
   "cell_type": "code",
   "execution_count": 1618,
   "metadata": {},
   "outputs": [],
   "source": [
    "def random_data_select(data:pd.DataFrame,pourcentage:int):\n",
    "    shuffled_data = shuffle_data(data)\n",
    "    echantillon = data_select(shuffled_data,pourcentage)\n",
    "    return echantillon"
   ]
  },
  {
   "cell_type": "markdown",
   "metadata": {},
   "source": [
    "## Forest gen"
   ]
  },
  {
   "cell_type": "code",
   "execution_count": 1619,
   "metadata": {},
   "outputs": [],
   "source": [
    "def generate_forest(train_data:pd.DataFrame,pourcentage:int,tree_number:int):\n",
    "    forest = []\n",
    "    for i in range(tree_number):\n",
    "        echantillon = random_data_select(train_data,pourcentage)\n",
    "        print(f'>> {echantillon}\\n')\n",
    "    \n",
    "    return forest"
   ]
  },
  {
   "cell_type": "markdown",
   "metadata": {},
   "source": [
    "# Main"
   ]
  },
  {
   "cell_type": "markdown",
   "metadata": {},
   "source": [
    "## MAIN FOREST"
   ]
  },
  {
   "cell_type": "code",
   "execution_count": 1620,
   "metadata": {},
   "outputs": [
    {
     "name": "stdout",
     "output_type": "stream",
     "text": [
      ">>     Previsions Temperature Humidite    Vent Classe\n",
      "0     Pluvieux       Moyen   Elevee  Faible    Oui\n",
      "4   Ensoleille       Moyen  Normale    Fort    Oui\n",
      "10    Pluvieux       Moyen  Normale  Faible    Oui\n",
      "\n",
      ">>     Previsions Temperature Humidite    Vent Classe\n",
      "11  Ensoleille       Frais  Normale  Faible    Oui\n",
      "0     Pluvieux       Moyen   Elevee  Faible    Oui\n",
      "1   Ensoleille       Moyen   Elevee  Faible    Non\n",
      "\n",
      ">>     Previsions Temperature Humidite    Vent Classe\n",
      "2      Nuageux       Frais  Normale    Fort    Oui\n",
      "11  Ensoleille       Frais  Normale  Faible    Oui\n",
      "10    Pluvieux       Moyen  Normale  Faible    Oui\n",
      "\n",
      ">>     Previsions Temperature Humidite    Vent Classe\n",
      "12     Nuageux       Moyen   Elevee    Fort    Oui\n",
      "8   Ensoleille       Chaud   Elevee  Faible    Non\n",
      "13    Pluvieux       Frais  Normale    Fort    Non\n",
      "\n",
      ">>     Previsions Temperature Humidite    Vent Classe\n",
      "9     Pluvieux       Moyen   Elevee    Fort    Non\n",
      "1   Ensoleille       Moyen   Elevee  Faible    Non\n",
      "11  Ensoleille       Frais  Normale  Faible    Oui\n",
      "\n",
      ">>    Previsions Temperature Humidite    Vent Classe\n",
      "3     Nuageux       Chaud   Elevee  Faible    Oui\n",
      "10   Pluvieux       Moyen  Normale  Faible    Oui\n",
      "13   Pluvieux       Frais  Normale    Fort    Non\n",
      "\n",
      ">>    Previsions Temperature Humidite    Vent Classe\n",
      "10   Pluvieux       Moyen  Normale  Faible    Oui\n",
      "13   Pluvieux       Frais  Normale    Fort    Non\n",
      "9    Pluvieux       Moyen   Elevee    Fort    Non\n",
      "\n",
      ">>    Previsions Temperature Humidite    Vent Classe\n",
      "6  Ensoleille       Chaud   Elevee    Fort    Non\n",
      "1  Ensoleille       Moyen   Elevee  Faible    Non\n",
      "2     Nuageux       Frais  Normale    Fort    Oui\n",
      "\n",
      ">>    Previsions Temperature Humidite    Vent Classe\n",
      "12    Nuageux       Moyen   Elevee    Fort    Oui\n",
      "5    Pluvieux       Frais  Normale  Faible    Oui\n",
      "2     Nuageux       Frais  Normale    Fort    Oui\n",
      "\n",
      ">>    Previsions Temperature Humidite    Vent Classe\n",
      "2     Nuageux       Frais  Normale    Fort    Oui\n",
      "0    Pluvieux       Moyen   Elevee  Faible    Oui\n",
      "13   Pluvieux       Frais  Normale    Fort    Non\n",
      "\n"
     ]
    },
    {
     "data": {
      "text/plain": [
       "[]"
      ]
     },
     "execution_count": 1620,
     "metadata": {},
     "output_type": "execute_result"
    }
   ],
   "source": [
    "# Recuperation des donnees\n",
    "data = load_data_from_csv(\"data/spam.csv\")\n",
    "pourcentage = 25\n",
    "tree_number = 10\n",
    "# Encodage des donnees\n",
    "# encodage(\n",
    "#     data,\n",
    "#     indexes=['Previsions','Temperature','Humidite','Vent','Classe'],\n",
    "#     encode_rules={\n",
    "#         'Ensoleille':1,'Nuageux':2,'Pluvieux':3,\n",
    "#         'Chaud':3,'Moyen':2,'Frais':1,\n",
    "#         'Elevee':2,'Normale':1,\n",
    "#         'Faible':1,'Fort':2,\n",
    "#         'Oui':0,'Non':1\n",
    "#     }\n",
    "# )\n",
    "generate_forest(data,pourcentage,tree_number)"
   ]
  },
  {
   "cell_type": "markdown",
   "metadata": {},
   "source": [
    "## MAIN TREE"
   ]
  },
  {
   "cell_type": "code",
   "execution_count": 1621,
   "metadata": {},
   "outputs": [
    {
     "name": "stdout",
     "output_type": "stream",
     "text": [
      "{'class_name': 'Classe', 'tree_body': {'body_name': 'Previsions', 'branch': {'Ensoleille': {'body_name': 'Humidite', 'branch': {'Elevee': 'Non', 'Normale': 'Oui'}}, 'Nuageux': 'Oui', 'Pluvieux': {'body_name': 'Vent', 'branch': {'Faible': 'Oui', 'Fort': 'Non'}}}}}\n",
      "Non\n",
      "Non\n",
      "Oui\n",
      "Oui\n",
      "Oui\n",
      "Non\n",
      "Oui\n",
      "Non\n",
      "Oui\n",
      "Oui\n",
      "Oui\n",
      "Oui\n",
      "Oui\n",
      "Non\n"
     ]
    }
   ],
   "source": [
    "# Recuperation des donnees\n",
    "data = load_data_from_csv(\"data/spam.csv\")\n",
    "# Encodage des donnees\n",
    "# encodage (\n",
    "#     data,\n",
    "#     indexes=['Previsions','Temperature','Humidite','Vent','Classe'],\n",
    "#     encode_rules={\n",
    "#         'Ensoleille':1,'Nuageux':2,'Pluvieux':3,\n",
    "#         'Chaud':3,'Moyen':2,'Frais':1,\n",
    "#         'Elevee':2,'Normale':1,\n",
    "#         'Faible':1,'Fort':2,\n",
    "#         'Oui':0,'Non':1\n",
    "#     }\n",
    "# )\n",
    "# Creation d'un arbre\n",
    "tree = generate_tree(data,'Classe')\n",
    "# Classer a partir d'un arbre\n",
    "print(tree)\n",
    "for i in range(len(data)):    \n",
    "    classification = get_class_by_tree(data.loc[i],tree)\n",
    "    print(classification)"
   ]
  }
 ],
 "metadata": {
  "kernelspec": {
   "display_name": "Python 3",
   "language": "python",
   "name": "python3"
  },
  "language_info": {
   "codemirror_mode": {
    "name": "ipython",
    "version": 3
   },
   "file_extension": ".py",
   "mimetype": "text/x-python",
   "name": "python",
   "nbconvert_exporter": "python",
   "pygments_lexer": "ipython3",
   "version": "3.11.2"
  }
 },
 "nbformat": 4,
 "nbformat_minor": 2
}
