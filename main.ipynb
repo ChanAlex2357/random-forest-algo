{
 "cells": [
  {
   "cell_type": "code",
   "execution_count": 1520,
   "metadata": {},
   "outputs": [],
   "source": [
    "import pandas as pd\n",
    "import numpy as np\n",
    "import math"
   ]
  },
  {
   "cell_type": "markdown",
   "metadata": {},
   "source": [
    "# I. Numereisation"
   ]
  },
  {
   "cell_type": "markdown",
   "metadata": {},
   "source": [
    "## 1. Recuperation de donnee"
   ]
  },
  {
   "cell_type": "code",
   "execution_count": 1521,
   "metadata": {},
   "outputs": [],
   "source": [
    "def load_data_from_csv(csv_path:str):\n",
    "    data = pd.read_csv(csv_path)\n",
    "    return data"
   ]
  },
  {
   "cell_type": "markdown",
   "metadata": {},
   "source": [
    "## 2. Encodage"
   ]
  },
  {
   "cell_type": "code",
   "execution_count": 1522,
   "metadata": {},
   "outputs": [],
   "source": [
    "def encodage(data,indexes:list,encode_rules):\n",
    "    ''' Permet de faire l'encodage des donnees \n",
    "        ARGS\n",
    "            - data : la liste des donnees\n",
    "            - indexes : la listes des colonnes a encoder\n",
    "            - encode_rules : un dictionaire des regles a suivre pour encodes la valeur des donnees\n",
    "    '''\n",
    "    for i in range(len(data)):\n",
    "        for index in indexes:\n",
    "            value = data.loc[i,index]\n",
    "            try:\n",
    "                value = encode_rules[index][value]\n",
    "            except :\n",
    "                value = encode_rules[value]\n",
    "            data.loc[i,index] = value"
   ]
  },
  {
   "cell_type": "markdown",
   "metadata": {},
   "source": [
    "# II. Entropie"
   ]
  },
  {
   "cell_type": "code",
   "execution_count": 1523,
   "metadata": {},
   "outputs": [],
   "source": [
    "def entopie_piece(repetion:int,total:int):\n",
    "    result = repetion / total\n",
    "    return result"
   ]
  },
  {
   "cell_type": "code",
   "execution_count": 1524,
   "metadata": {},
   "outputs": [],
   "source": [
    "def entropie(data:pd.DataFrame,classes):\n",
    "    ''' Etablir l'entropie a partir d'une colonne de classe \n",
    "        PARAMETERS :\n",
    "            - data : les donnees pour etablir l'entropie\n",
    "            - class_attribute : Le nom de la colonne qui represente les donnee pour l'entropie\n",
    "        RETURN :\n",
    "            - entropie , la valeur entropique des donnees par rapport au colonne donnee\n",
    "    '''\n",
    "    # Le nombre total de donnee\n",
    "    data_lenght = len(data)\n",
    "    # Recuperer les valeurs de la classe\n",
    "    couple_vlaues = data[classes]\n",
    "    # Calculer la repetions de chacunes des valeurs parmi les donnees\n",
    "    repetitions = couple_vlaues.groupby(classes).size().reset_index(name='Repetitions')\n",
    "    # Le resultat attendue\n",
    "    entropie = 0\n",
    "    # Calcul de l'entropie\n",
    "    for rep in repetitions['Repetitions']:\n",
    "        # La piece entropique de la valeur\n",
    "        pc = entopie_piece(rep,data_lenght)\n",
    "        # Incrementation de la somme\n",
    "        it = -(pc) * math.log2(pc)\n",
    "        entropie += it\n",
    "    return entropie"
   ]
  },
  {
   "cell_type": "markdown",
   "metadata": {},
   "source": [
    "# III. Meilleure Caracteristique"
   ]
  },
  {
   "cell_type": "markdown",
   "metadata": {},
   "source": [
    "## 1. Gain"
   ]
  },
  {
   "cell_type": "markdown",
   "metadata": {},
   "source": [
    "### 1.1. Separation de donnee"
   ]
  },
  {
   "cell_type": "code",
   "execution_count": 1525,
   "metadata": {},
   "outputs": [],
   "source": [
    "def split_data(dataframe,colonne):\n",
    "    \"\"\"\n",
    "    Sépare les données d'un DataFrame selon une colonne spécifique en regroupant les mêmes critères.\n",
    "\n",
    "    Parameters:\n",
    "    dataframe (pd.DataFrame): Le DataFrame contenant les données.\n",
    "    colonne (str): Le nom de la colonne selon laquelle séparer les données.\n",
    "\n",
    "    Returns:\n",
    "    dict: Un dictionnaire où les clés sont les valeurs uniques de la colonne et les valeurs sont les DataFrames correspondants.\n",
    "    \"\"\"\n",
    "    groupes = dataframe.groupby(colonne)\n",
    "    resultats = {nom: groupe for nom , groupe in groupes}\n",
    "    return resultats"
   ]
  },
  {
   "cell_type": "markdown",
   "metadata": {},
   "source": [
    "### 1.2. Fonction de gain"
   ]
  },
  {
   "cell_type": "code",
   "execution_count": 1526,
   "metadata": {},
   "outputs": [],
   "source": [
    "def gain(data:pd.DataFrame,ref_attribute:str,classes):\n",
    "    # Entropie de l'ensemble du data\n",
    "    entropie_S = entropie(data,classes)\n",
    "    # Le gain attendue\n",
    "    gain = entropie_S\n",
    "    # Le nombre de donnee total\n",
    "    nS = len(data)\n",
    "    # Separation des donnees en plusieurs sous section de donnee\n",
    "    data_sv = split_data(data,ref_attribute)\n",
    "    for index, data_part in data_sv.items():\n",
    "        # Le nombre de sous section\n",
    "        nSv = len(data_part)\n",
    "        sv = nSv/nS\n",
    "        # Entropie du sous section\n",
    "        entropie_SV = entropie(data_part,classes)\n",
    "\n",
    "        gain -= sv*entropie_SV\n",
    "    return gain"
   ]
  },
  {
   "cell_type": "markdown",
   "metadata": {},
   "source": [
    "## 2. Calculs des GAINS"
   ]
  },
  {
   "cell_type": "code",
   "execution_count": 1527,
   "metadata": {},
   "outputs": [],
   "source": [
    "def gains(data:pd.DataFrame,classes):\n",
    "    ''' \n",
    "        Calcul des gains pour chaque critere present parmi les donnees\n",
    "        ARGS :\n",
    "            - data : la liste des donnees d'entrainement\n",
    "            - classes : le nom des colonnes qui prescisent la class des donees\n",
    "        RETURNS :\n",
    "            - gains , tableau des couples ( nom critere , gain )\n",
    "    '''\n",
    "    # Resulats > Liste des gains\n",
    "    gains = list()\n",
    "    # Recuperation des criteres possibles\n",
    "    indexes = data.columns\n",
    "    for index in indexes :\n",
    "        if index in classes:\n",
    "            continue\n",
    "        gains.append({index : gain(data,index,classes)})\n",
    "    return gains"
   ]
  },
  {
   "cell_type": "markdown",
   "metadata": {},
   "source": [
    "## 3. Best collumn"
   ]
  },
  {
   "cell_type": "code",
   "execution_count": 1528,
   "metadata": {},
   "outputs": [],
   "source": [
    "def find_best_criteria(data:pd.DataFrame,classes):\n",
    "    '''\n",
    "        Calcul le gain d'information de chaque critere de donnee pour determiner le meilleur parmi eux\n",
    "        ARGS :\n",
    "            - data : la liste des donnees d'entrainement\n",
    "            - classes : le nom de la colonne qui prescise la class des donees\n",
    "        RETURNS :\n",
    "            - criteria , le nom du critere qui possede le gain la plus haute apres filtre decroissante\n",
    "    '''\n",
    "    # Recuperation des gains pour chaque criteres\n",
    "    gains_var = gains(data,classes)\n",
    "    # Filtrer decroissant\n",
    "    gains_sorted = sorted(gains_var, key=lambda d : list(d.values())[0])\n",
    "    gains_sorted.reverse()\n",
    "    return [criteria for criteria , gain_value in gains_sorted[0].items()][0]"
   ]
  },
  {
   "cell_type": "markdown",
   "metadata": {},
   "source": [
    "# IV. ARBRE"
   ]
  },
  {
   "cell_type": "markdown",
   "metadata": {},
   "source": [
    "## 1. Creation d'un arbre"
   ]
  },
  {
   "cell_type": "markdown",
   "metadata": {},
   "source": [
    "### 1.1. Creation d'une branche"
   ]
  },
  {
   "cell_type": "code",
   "execution_count": 1529,
   "metadata": {},
   "outputs": [],
   "source": [
    "def generate_tree_branch(splited_data,classes):\n",
    "    branch = {}\n",
    "    for key in splited_data.keys():\n",
    "        # Data de chaque section\n",
    "        data_part = splited_data[key]\n",
    "        # On verifie l'entropie \n",
    "        data_entropie = entropie(data_part,classes)\n",
    "        if data_entropie == 0:\n",
    "            # Pour une entropie homogene\n",
    "            branch[key] = np.array(data_part[classes].drop_duplicates().reset_index(drop=True))[0]\n",
    "        else :\n",
    "            branch[key] = generate_tree_body(data_part,classes)\n",
    "    return branch"
   ]
  },
  {
   "cell_type": "markdown",
   "metadata": {},
   "source": [
    "### 1.2. Creation d'un tronc"
   ]
  },
  {
   "cell_type": "code",
   "execution_count": 1530,
   "metadata": {},
   "outputs": [],
   "source": [
    "def generate_tree_body(data:pd.DataFrame,classes):\n",
    "    # Recuperer le meilleur critre\n",
    "    best_criteria = find_best_criteria(data,classes)\n",
    "    # The tree decision\n",
    "    tree_body = {\n",
    "        'body_name':best_criteria\n",
    "    }\n",
    "    # Diviser en sous section des donnees du best criteria\n",
    "    splited_data = split_data(data,best_criteria)\n",
    "    # Generate the branches of the body\n",
    "    tree_body['branch'] = generate_tree_branch(splited_data,classes)\n",
    "    return tree_body"
   ]
  },
  {
   "cell_type": "markdown",
   "metadata": {},
   "source": [
    "### 1.3. Tree gen"
   ]
  },
  {
   "cell_type": "code",
   "execution_count": 1531,
   "metadata": {},
   "outputs": [],
   "source": [
    "def generate_tree(data:pd.DataFrame,classes):\n",
    "    # The tree decision\n",
    "    tree = {\n",
    "        'class_name':classes,\n",
    "        'tree_body':generate_tree_body(data,classes)\n",
    "    }\n",
    "    return tree"
   ]
  },
  {
   "cell_type": "markdown",
   "metadata": {},
   "source": [
    "## 2. Prise de decision"
   ]
  },
  {
   "cell_type": "code",
   "execution_count": 1532,
   "metadata": {},
   "outputs": [],
   "source": [
    "\n",
    "def get_tree_body_class_result(data:object,tree_body:dict,class_count=1):\n",
    "    body_name = tree_body['body_name']\n",
    "    branch  = tree_body['branch']\n",
    "    # Recuperer le chemin logique du donnee dans l'arbre\n",
    "    branch_path = data[body_name]\n",
    "    try :\n",
    "        class_result = branch[branch_path]\n",
    "        if type(class_result) ==  dict:\n",
    "            class_result = get_tree_body_class_result(data,class_result)\n",
    "    except :\n",
    "        class_result = [None] * class_count\n",
    "    return class_result"
   ]
  },
  {
   "cell_type": "code",
   "execution_count": 1533,
   "metadata": {},
   "outputs": [],
   "source": [
    "def get_class_by_tree(data:object,tree:dict):\n",
    "    # La class a determiner\n",
    "    data_class = None\n",
    "    tree_body = tree['tree_body']\n",
    "    data_class = get_tree_body_class_result(data,tree_body,len(tree['class_name']))\n",
    "    return data_class"
   ]
  },
  {
   "cell_type": "markdown",
   "metadata": {},
   "source": [
    "# V. FOREST"
   ]
  },
  {
   "cell_type": "markdown",
   "metadata": {},
   "source": [
    "## 1. Shuffle Data"
   ]
  },
  {
   "cell_type": "code",
   "execution_count": 1534,
   "metadata": {},
   "outputs": [],
   "source": [
    "def shuffle_data(dataframe:pd.DataFrame):\n",
    "    \"\"\"\n",
    "        Retourne une copie mélangée d'un DataFrame.\n",
    "\n",
    "        Parameters:\n",
    "        dataframe (pd.DataFrame): Le DataFrame contenant les données.\n",
    "\n",
    "        Returns:\n",
    "        pd.DataFrame: Une copie mélangée du DataFrame.\n",
    "    \"\"\"\n",
    "    # Mélanger les lignes du DataFrame\n",
    "    dataframe_melange = dataframe.sample(frac=1, random_state=1).reset_index(drop=True)\n",
    "    return dataframe_melange"
   ]
  },
  {
   "cell_type": "markdown",
   "metadata": {},
   "source": [
    "## 2. Data select "
   ]
  },
  {
   "cell_type": "code",
   "execution_count": 1535,
   "metadata": {},
   "outputs": [],
   "source": [
    "def data_select(dataframe:pd.DataFrame, pourcentage:int):\n",
    "    \"\"\"\n",
    "    Récupère un pourcentage donné de lignes d'un DataFrame.\n",
    "\n",
    "    Parameters:\n",
    "    dataframe (pd.DataFrame): Le DataFrame contenant les données.\n",
    "    pourcentage (float): Le pourcentage de lignes à récupérer (entre 0 et 100).\n",
    "\n",
    "    Returns:\n",
    "    pd.DataFrame: Un DataFrame contenant le pourcentage spécifié de lignes.\n",
    "    \"\"\"\n",
    "    if pourcentage < 0 or pourcentage > 100:\n",
    "        raise ValueError(\"Le pourcentage doit être entre 0 et 100.\")\n",
    "    \n",
    "    # Calcul du nombre de lignes à récupérer\n",
    "    nombre_lignes = int(len(dataframe) * (pourcentage / 100))\n",
    "    \n",
    "    # Sélection aléatoire des lignes\n",
    "    echantillon = dataframe.sample(nombre_lignes)\n",
    "    \n",
    "    return echantillon"
   ]
  },
  {
   "cell_type": "markdown",
   "metadata": {},
   "source": [
    "## 3. Random data select"
   ]
  },
  {
   "cell_type": "code",
   "execution_count": 1536,
   "metadata": {},
   "outputs": [],
   "source": [
    "def random_data_select(data:pd.DataFrame,pourcentage:int):\n",
    "    shuffled_data = shuffle_data(data)\n",
    "    echantillon = data_select(shuffled_data,pourcentage)\n",
    "    return echantillon"
   ]
  },
  {
   "cell_type": "markdown",
   "metadata": {},
   "source": [
    "## 4. Forest gen"
   ]
  },
  {
   "cell_type": "code",
   "execution_count": 1537,
   "metadata": {},
   "outputs": [],
   "source": [
    "def generate_forest(train_data:pd.DataFrame,classes,pourcentage:int,tree_number:int):\n",
    "    forest = {\n",
    "        'classes' : classes\n",
    "    }\n",
    "    forest_entity = []\n",
    "    for i in range(tree_number):\n",
    "        echantillon = random_data_select(train_data,pourcentage)\n",
    "        tree = generate_tree(echantillon,classes)\n",
    "        forest_entity.append(tree)\n",
    "    forest['entity'] = forest_entity\n",
    "    return forest"
   ]
  },
  {
   "cell_type": "markdown",
   "metadata": {},
   "source": [
    "## 5. Forest decision"
   ]
  },
  {
   "cell_type": "code",
   "execution_count": 1538,
   "metadata": {},
   "outputs": [],
   "source": [
    "def compter_tous_les_couples(liste_couples):\n",
    "    \"\"\"\n",
    "    Compte le nombre de répétitions de chaque couple dans une liste de couples.\n",
    "\n",
    "    Parameters:\n",
    "    liste_couples (list): Une liste de couples (chaque couple est représenté par une liste ou un tuple).\n",
    "\n",
    "    Returns:\n",
    "    dict: Un dictionnaire où les clés sont les couples et les valeurs sont le nombre de répétitions.\n",
    "    \"\"\"\n",
    "    compteur_couples = {}\n",
    "    for couple in liste_couples:\n",
    "        couple_tuple = tuple(couple)  # Convertir le couple en tuple pour pouvoir l'utiliser comme clé de dictionnaire\n",
    "        if couple_tuple in compteur_couples:\n",
    "            compteur_couples[couple_tuple] += 1\n",
    "        else:\n",
    "            compteur_couples[couple_tuple] = 1\n",
    "    return compteur_couples"
   ]
  },
  {
   "cell_type": "code",
   "execution_count": 1539,
   "metadata": {},
   "outputs": [],
   "source": [
    "def get_class_by_forest(data:pd.DataFrame,forest):\n",
    "    data_class = None\n",
    "    \n",
    "    tree_decisions = []\n",
    "    for tree in forest['entity']:\n",
    "        tmp_class = get_class_by_tree(data,tree)\n",
    "        # if tmp_class in tree_decisions.keys():\n",
    "        #     tree_decisions[tmp_class] += 1\n",
    "        # else:\n",
    "            # tree_decisions[tmp_class] = 1\n",
    "        tree_decisions.append(tmp_class)\n",
    "    couple_count = compter_tous_les_couples(tree_decisions)\n",
    "    max_count = 0\n",
    "    for clazz in couple_count.keys():\n",
    "        local_class_count = couple_count[clazz]\n",
    "        if max_count < local_class_count:\n",
    "            data_class = clazz\n",
    "            max_count = local_class_count\n",
    "    \n",
    "    return pd.DataFrame(data=data_class,index=forest['classes']).transpose()\n",
    "    # return data_class"
   ]
  },
  {
   "cell_type": "markdown",
   "metadata": {},
   "source": [
    "# Main"
   ]
  },
  {
   "cell_type": "markdown",
   "metadata": {},
   "source": [
    "## MAIN FOREST"
   ]
  },
  {
   "cell_type": "code",
   "execution_count": 1540,
   "metadata": {},
   "outputs": [
    {
     "data": {
      "text/html": [
       "<div>\n",
       "<style scoped>\n",
       "    .dataframe tbody tr th:only-of-type {\n",
       "        vertical-align: middle;\n",
       "    }\n",
       "\n",
       "    .dataframe tbody tr th {\n",
       "        vertical-align: top;\n",
       "    }\n",
       "\n",
       "    .dataframe thead th {\n",
       "        text-align: right;\n",
       "    }\n",
       "</style>\n",
       "<table border=\"1\" class=\"dataframe\">\n",
       "  <thead>\n",
       "    <tr style=\"text-align: right;\">\n",
       "      <th></th>\n",
       "      <th>Classe</th>\n",
       "    </tr>\n",
       "  </thead>\n",
       "  <tbody>\n",
       "    <tr>\n",
       "      <th>0</th>\n",
       "      <td>Oui</td>\n",
       "    </tr>\n",
       "  </tbody>\n",
       "</table>\n",
       "</div>"
      ],
      "text/plain": [
       "  Classe\n",
       "0    Oui"
      ]
     },
     "execution_count": 1540,
     "metadata": {},
     "output_type": "execute_result"
    }
   ],
   "source": [
    "# Recuperation des donnees\n",
    "data = load_data_from_csv(\"data/spam.csv\")\n",
    "pourcentage = 20\n",
    "tree_number = 10\n",
    "class_attribute = ['Classe']\n",
    "# Encodage des donnees\n",
    "# encodage(\n",
    "#     data,\n",
    "#     indexes=['Previsions','Temperature','Humidite','Vent','Classe'],\n",
    "#     encode_rules={\n",
    "#         'Ensoleille':1,'Nuageux':2,'Pluvieux':3,\n",
    "#         'Chaud':3,'Moyen':2,'Frais':1,\n",
    "#         'Elevee':2,'Normale':1,\n",
    "#         'Faible':1,'Fort':2,\n",
    "#         'Oui':0,'Non':1\n",
    "#     }\n",
    "# )\n",
    "forest = generate_forest(data,class_attribute,pourcentage,tree_number)\n",
    "# print(forest)\n",
    "get_class_by_forest(data.loc[1],forest)"
   ]
  },
  {
   "cell_type": "code",
   "execution_count": 1541,
   "metadata": {},
   "outputs": [
    {
     "data": {
      "text/html": [
       "<div>\n",
       "<style scoped>\n",
       "    .dataframe tbody tr th:only-of-type {\n",
       "        vertical-align: middle;\n",
       "    }\n",
       "\n",
       "    .dataframe tbody tr th {\n",
       "        vertical-align: top;\n",
       "    }\n",
       "\n",
       "    .dataframe thead th {\n",
       "        text-align: right;\n",
       "    }\n",
       "</style>\n",
       "<table border=\"1\" class=\"dataframe\">\n",
       "  <thead>\n",
       "    <tr style=\"text-align: right;\">\n",
       "      <th></th>\n",
       "      <th>Classe</th>\n",
       "      <th>Periode</th>\n",
       "    </tr>\n",
       "  </thead>\n",
       "  <tbody>\n",
       "    <tr>\n",
       "      <th>0</th>\n",
       "      <td>Non</td>\n",
       "      <td>Soiree</td>\n",
       "    </tr>\n",
       "  </tbody>\n",
       "</table>\n",
       "</div>"
      ],
      "text/plain": [
       "  Classe Periode\n",
       "0    Non  Soiree"
      ]
     },
     "execution_count": 1541,
     "metadata": {},
     "output_type": "execute_result"
    }
   ],
   "source": [
    "# Recuperation des donnees\n",
    "data = load_data_from_csv(\"data/spam_copy.csv\")\n",
    "pourcentage = 20\n",
    "tree_number = 1\n",
    "class_attribute = ['Classe','Periode']\n",
    "# Encodage des donnees\n",
    "# encodage(\n",
    "#     data,\n",
    "#     indexes=['Previsions','Temperature','Humidite','Vent','Classe'],\n",
    "#     encode_rules={\n",
    "#         'Ensoleille':1,'Nuageux':2,'Pluvieux':3,\n",
    "#         'Chaud':3,'Moyen':2,'Frais':1,\n",
    "#         'Elevee':2,'Normale':1,\n",
    "#         'Faible':1,'Fort':2,\n",
    "#         'Oui':0,'Non':1\n",
    "#     }\n",
    "# )\n",
    "forest = generate_forest(data,class_attribute,pourcentage,tree_number)\n",
    "# print(forest)\n",
    "get_class_by_forest(data.loc[1],forest)"
   ]
  },
  {
   "cell_type": "markdown",
   "metadata": {},
   "source": [
    "## MAIN TREE"
   ]
  },
  {
   "cell_type": "code",
   "execution_count": 1542,
   "metadata": {},
   "outputs": [
    {
     "name": "stdout",
     "output_type": "stream",
     "text": [
      "{'class_name': ['Classe'], 'tree_body': {'body_name': 'Previsions', 'branch': {'Ensoleille': {'body_name': 'Humidite', 'branch': {'Elevee': array(['Non'], dtype=object), 'Normale': array(['Oui'], dtype=object)}}, 'Nuageux': array(['Oui'], dtype=object), 'Pluvieux': {'body_name': 'Vent', 'branch': {'Faible': array(['Oui'], dtype=object), 'Fort': array(['Non'], dtype=object)}}}}}\n",
      "['Non']\n",
      "['Non']\n",
      "['Oui']\n",
      "['Oui']\n",
      "['Oui']\n",
      "['Non']\n",
      "['Oui']\n",
      "['Non']\n",
      "['Oui']\n",
      "['Oui']\n",
      "['Oui']\n",
      "['Oui']\n",
      "['Oui']\n",
      "['Non']\n"
     ]
    }
   ],
   "source": [
    "# Recuperation des donnees\n",
    "data = load_data_from_csv(\"data/spam.csv\")\n",
    "# Encodage des donnees\n",
    "# encodage (\n",
    "#     data,\n",
    "#     indexes=['Previsions','Temperature','Humidite','Vent','Classe'],\n",
    "#     encode_rules={\n",
    "#         'Ensoleille':1,'Nuageux':2,'Pluvieux':3,\n",
    "#         'Chaud':3,'Moyen':2,'Frais':1,\n",
    "#         'Elevee':2,'Normale':1,\n",
    "#         'Faible':1,'Fort':2,\n",
    "#         'Oui':0,'Non':1\n",
    "#     }\n",
    "# )\n",
    "# Creation d'un arbre\n",
    "tree = generate_tree(data,['Classe'])\n",
    "# Classer a partir d'un arbre\n",
    "print(tree)\n",
    "for i in range(len(data)):    \n",
    "    classification = get_class_by_tree(data.loc[i],tree)\n",
    "    print(classification)"
   ]
  },
  {
   "cell_type": "markdown",
   "metadata": {},
   "source": [
    "# MULTI "
   ]
  },
  {
   "cell_type": "code",
   "execution_count": 1543,
   "metadata": {},
   "outputs": [
    {
     "name": "stdout",
     "output_type": "stream",
     "text": [
      "[{'Previsions': 0.24674981977443933}, {'Temperature': 0.02922256565895487}, {'Humidite': 0.15183550136234164}, {'Vent': 0.048127030408269544}]\n"
     ]
    },
    {
     "data": {
      "text/plain": [
       "array(['Oui'], dtype=object)"
      ]
     },
     "execution_count": 1543,
     "metadata": {},
     "output_type": "execute_result"
    }
   ],
   "source": [
    "data = load_data_from_csv(\"data/spam.csv\")\n",
    "classes = [\n",
    "    # 'Humidite'\n",
    "    # ,'Vent'\n",
    "    'Classe'\n",
    "    # ,'Periode'\n",
    "    # ,'Previsions'\n",
    "]\n",
    "print(gains(data,classes))\n",
    "# ENTROPIE\n",
    "tree = generate_tree(data,classes)\n",
    "get_class_by_tree(data.loc[4],tree)"
   ]
  },
  {
   "cell_type": "code",
   "execution_count": 1544,
   "metadata": {},
   "outputs": [
    {
     "data": {
      "text/plain": [
       "array([['Non'],\n",
       "       ['Oui']], dtype=object)"
      ]
     },
     "execution_count": 1544,
     "metadata": {},
     "output_type": "execute_result"
    }
   ],
   "source": [
    "# criteres = data[['Humidite','Vent']]\n",
    "criteres = data[classes]\n",
    "# set(criteres)\n",
    "unique_criteres = criteres.drop_duplicates().reset_index(drop=True)\n",
    "np.array(unique_criteres)\n",
    "# repetitions = criteres.groupby(classes).size().reset_index(name='Repetitions')"
   ]
  }
 ],
 "metadata": {
  "kernelspec": {
   "display_name": "Python 3",
   "language": "python",
   "name": "python3"
  },
  "language_info": {
   "codemirror_mode": {
    "name": "ipython",
    "version": 3
   },
   "file_extension": ".py",
   "mimetype": "text/x-python",
   "name": "python",
   "nbconvert_exporter": "python",
   "pygments_lexer": "ipython3",
   "version": "3.10.12"
  }
 },
 "nbformat": 4,
 "nbformat_minor": 2
}
