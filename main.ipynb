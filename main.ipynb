{
 "cells": [
  {
   "cell_type": "code",
   "execution_count": 22,
   "metadata": {},
   "outputs": [],
   "source": [
    "import pandas as pd\n",
    "import numpy as np\n",
    "import math"
   ]
  },
  {
   "cell_type": "markdown",
   "metadata": {},
   "source": [
    "# Numereisation"
   ]
  },
  {
   "cell_type": "code",
   "execution_count": 23,
   "metadata": {},
   "outputs": [],
   "source": [
    "def load_data_from_csv(csv_path:str):\n",
    "    data = pd.read_csv(csv_path)\n",
    "    return data"
   ]
  },
  {
   "cell_type": "code",
   "execution_count": 24,
   "metadata": {},
   "outputs": [],
   "source": [
    "def encodage(data,indexes:list,encode_rules):\n",
    "    ''' Permet de faire l'encodage des donnees \n",
    "        ARGS\n",
    "            - data : la liste des donnees\n",
    "            - indexes : la listes des colonnes a encoder\n",
    "            - encode_rules : un dictionaire des regles a suivre pour encodes la valeur des donnees\n",
    "    '''\n",
    "    for i in range(len(data)):\n",
    "        for index in indexes:\n",
    "            value = data.loc[i,index]\n",
    "            try:\n",
    "                value = encode_rules[index][value]\n",
    "            except :\n",
    "                value = encode_rules[value]\n",
    "            data.loc[i,index] = value"
   ]
  },
  {
   "cell_type": "code",
   "execution_count": 25,
   "metadata": {},
   "outputs": [],
   "source": [
    "def entopie_piece(repetion:int,total:int):\n",
    "    result = repetion / total\n",
    "    return result"
   ]
  },
  {
   "cell_type": "markdown",
   "metadata": {},
   "source": [
    "# Entropie"
   ]
  },
  {
   "cell_type": "code",
   "execution_count": 26,
   "metadata": {},
   "outputs": [],
   "source": [
    "def entropie(data:pd.DataFrame,class_attribute:str):\n",
    "    ''' Etablir l'entropie a partir d'une colonne de classe \n",
    "        PARAMETERS :\n",
    "            - data : les donnees pour etablir l'entropie\n",
    "            - class_attribute : Le nom de la colonne qui represente les donnee pour l'entropie\n",
    "        RETURN :\n",
    "            - entropie , la valeur entropique des donnees par rapport au colonne donnee\n",
    "    '''\n",
    "    # Le nombre total de donnee\n",
    "    data_lenght = len(data)\n",
    "    # Recuperer les valeurs de la classe\n",
    "    class_values = data[class_attribute]\n",
    "    # Recupere en unique les valeur de la class\n",
    "    class_unique_values = set(class_values)\n",
    "    # Calculer la repetions de chacunes des valeurs parmi les donnees\n",
    "    repetitions = {\n",
    "        valeur: class_values.tolist().count(valeur) \n",
    "        for valeur in class_unique_values\n",
    "    }\n",
    "    # Le resultat attendue\n",
    "    entropie = 0\n",
    "    # Calcul de l'entropie\n",
    "    for value in class_unique_values:\n",
    "        # La piece entropique de la valeur\n",
    "        pc = entopie_piece(repetitions[value],data_lenght)\n",
    "        # Incrementation de la somme\n",
    "        it = -(pc) * math.log2(pc)\n",
    "        entropie += it\n",
    "    return entropie"
   ]
  },
  {
   "cell_type": "markdown",
   "metadata": {},
   "source": [
    "# Gain"
   ]
  },
  {
   "cell_type": "code",
   "execution_count": 27,
   "metadata": {},
   "outputs": [],
   "source": [
    "def gain(data:pd.DataFrame,ref_attribute:str,class_attribute:str):\n",
    "    entropie_S = entropie(data,class_attribute)\n",
    "    # Recuperer la liste des variables\n",
    "    ref_variables = data[ref_attribute]\n",
    "    variables = set(ref_variables)\n",
    "    print(variables)"
   ]
  },
  {
   "cell_type": "markdown",
   "metadata": {},
   "source": [
    "# Main"
   ]
  },
  {
   "cell_type": "code",
   "execution_count": 28,
   "metadata": {},
   "outputs": [
    {
     "name": "stdout",
     "output_type": "stream",
     "text": [
      "{1, 2, 3}\n"
     ]
    }
   ],
   "source": [
    "# Recuperation des donnees\n",
    "data = load_data_from_csv(\"data/spam.csv\")\n",
    "\n",
    "# Encodage des donnees\n",
    "encodage(\n",
    "    data,\n",
    "    indexes=['Previsions','Temperature','Humidite','Vent','Classe'],\n",
    "    encode_rules={\n",
    "        'Ensoleille':1,'Nuageux':2,'Pluvieux':3,\n",
    "        'Chaud':3,'Moyen':2,'Frais':1,\n",
    "        'Elevee':2,'Normale':1,\n",
    "        'Faible':1,'Fort':2,\n",
    "        'Oui':0,'Non':1\n",
    "    }\n",
    ")\n",
    "# Etablir l'entropie\n",
    "gain(data,'Previsions','Classe')"
   ]
  }
 ],
 "metadata": {
  "language_info": {
   "name": "python"
  }
 },
 "nbformat": 4,
 "nbformat_minor": 2
}
