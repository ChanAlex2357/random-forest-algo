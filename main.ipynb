{
 "cells": [
  {
   "cell_type": "code",
   "execution_count": 96,
   "metadata": {},
   "outputs": [],
   "source": [
    "import pandas as pd\n",
    "import numpy as np\n",
    "import math"
   ]
  },
  {
   "cell_type": "markdown",
   "metadata": {},
   "source": [
    "# I. Numereisation"
   ]
  },
  {
   "cell_type": "markdown",
   "metadata": {},
   "source": [
    "## 1. Recuperation de donnee"
   ]
  },
  {
   "cell_type": "code",
   "execution_count": 97,
   "metadata": {},
   "outputs": [],
   "source": [
    "def load_data_from_csv(csv_path:str):\n",
    "    data = pd.read_csv(csv_path)\n",
    "    return data"
   ]
  },
  {
   "cell_type": "markdown",
   "metadata": {},
   "source": [
    "## 2. Encodage"
   ]
  },
  {
   "cell_type": "code",
   "execution_count": 98,
   "metadata": {},
   "outputs": [],
   "source": [
    "def encodage(data,indexes:list,encode_rules):\n",
    "    ''' Permet de faire l'encodage des donnees \n",
    "        ARGS\n",
    "            - data : la liste des donnees\n",
    "            - indexes : la listes des colonnes a encoder\n",
    "            - encode_rules : un dictionaire des regles a suivre pour encodes la valeur des donnees\n",
    "    '''\n",
    "    for i in range(len(data)):\n",
    "        for index in indexes:\n",
    "            value = data.loc[i,index]\n",
    "            try:\n",
    "                value = encode_rules[index][value]\n",
    "            except :\n",
    "                value = encode_rules[value]\n",
    "            data.loc[i,index] = value"
   ]
  },
  {
   "cell_type": "markdown",
   "metadata": {},
   "source": [
    "# II. Entropie"
   ]
  },
  {
   "cell_type": "code",
   "execution_count": 99,
   "metadata": {},
   "outputs": [],
   "source": [
    "def entopie_piece(repetion:int,total:int):\n",
    "    result = repetion / total\n",
    "    return result"
   ]
  },
  {
   "cell_type": "code",
   "execution_count": 100,
   "metadata": {},
   "outputs": [],
   "source": [
    "def entropie(data:pd.DataFrame,class_attribute:str):\n",
    "    ''' Etablir l'entropie a partir d'une colonne de classe \n",
    "        PARAMETERS :\n",
    "            - data : les donnees pour etablir l'entropie\n",
    "            - class_attribute : Le nom de la colonne qui represente les donnee pour l'entropie\n",
    "        RETURN :\n",
    "            - entropie , la valeur entropique des donnees par rapport au colonne donnee\n",
    "    '''\n",
    "    # Le nombre total de donnee\n",
    "    data_lenght = len(data)\n",
    "    # Recuperer les valeurs de la classe\n",
    "    class_values = data[class_attribute]\n",
    "    # Recupere en unique les valeur de la class\n",
    "    class_unique_values = set(class_values)\n",
    "    # Calculer la repetions de chacunes des valeurs parmi les donnees\n",
    "    repetitions = {\n",
    "        valeur: class_values.tolist().count(valeur) \n",
    "        for valeur in class_unique_values\n",
    "    }\n",
    "    # Le resultat attendue\n",
    "    entropie = 0\n",
    "    # Calcul de l'entropie\n",
    "    for value in class_unique_values:\n",
    "        # La piece entropique de la valeur\n",
    "        pc = entopie_piece(repetitions[value],data_lenght)\n",
    "        # Incrementation de la somme\n",
    "        it = -(pc) * math.log2(pc)\n",
    "        entropie += it\n",
    "    return entropie"
   ]
  },
  {
   "cell_type": "markdown",
   "metadata": {},
   "source": [
    "# III. Meilleure Caracteristique"
   ]
  },
  {
   "cell_type": "markdown",
   "metadata": {},
   "source": [
    "## 1. Gain"
   ]
  },
  {
   "cell_type": "markdown",
   "metadata": {},
   "source": [
    "### 1.1. Separation de donnee"
   ]
  },
  {
   "cell_type": "code",
   "execution_count": 101,
   "metadata": {},
   "outputs": [],
   "source": [
    "def split_data(dataframe, colonne):\n",
    "    \"\"\"\n",
    "    Sépare les données d'un DataFrame selon une colonne spécifique en regroupant les mêmes critères.\n",
    "\n",
    "    Parameters:\n",
    "    dataframe (pd.DataFrame): Le DataFrame contenant les données.\n",
    "    colonne (str): Le nom de la colonne selon laquelle séparer les données.\n",
    "\n",
    "    Returns:\n",
    "    dict: Un dictionnaire où les clés sont les valeurs uniques de la colonne et les valeurs sont les DataFrames correspondants.\n",
    "    \"\"\"\n",
    "    groupes = dataframe.groupby(colonne)\n",
    "    resultats = {nom: groupe for nom , groupe in groupes}\n",
    "    return resultats"
   ]
  },
  {
   "cell_type": "markdown",
   "metadata": {},
   "source": [
    "### 1.2. Fonction de gain"
   ]
  },
  {
   "cell_type": "code",
   "execution_count": 102,
   "metadata": {},
   "outputs": [],
   "source": [
    "def gain(data:pd.DataFrame,ref_attribute:str,class_attribute:str):\n",
    "    # Entropie de l'ensemble du data\n",
    "    entropie_S = entropie(data,class_attribute)\n",
    "    # Le gain attendue\n",
    "    gain = entropie_S\n",
    "    # Le nombre de donnee total\n",
    "    nS = len(data)\n",
    "    # Separation des donnees en plusieurs sous section de donnee\n",
    "    data_sv = split_data(data,ref_attribute)\n",
    "    for index, data_part in data_sv.items():\n",
    "        # Le nombre de sous section\n",
    "        nSv = len(data_part)\n",
    "        sv = nSv/nS\n",
    "        # Entropie du sous section\n",
    "        entropie_SV = entropie(data_part,class_attribute)\n",
    "\n",
    "        gain -= sv*entropie_SV\n",
    "    return gain"
   ]
  },
  {
   "cell_type": "markdown",
   "metadata": {},
   "source": [
    "## 2. Calculs des GAINS"
   ]
  },
  {
   "cell_type": "code",
   "execution_count": 103,
   "metadata": {},
   "outputs": [],
   "source": [
    "def gains(data:pd.DataFrame,class_attribute:str):\n",
    "    # Recuperation des criteres possibles\n",
    "    indexes = data.columns\n",
    "    print (indexes)"
   ]
  },
  {
   "cell_type": "markdown",
   "metadata": {},
   "source": [
    "# Main"
   ]
  },
  {
   "cell_type": "code",
   "execution_count": 104,
   "metadata": {},
   "outputs": [
    {
     "name": "stdout",
     "output_type": "stream",
     "text": [
      "Index(['Jour', 'Previsions', 'Temperature', 'Humidite', 'Vent', 'Classe'], dtype='object')\n"
     ]
    }
   ],
   "source": [
    "# Recuperation des donnees\n",
    "data = load_data_from_csv(\"data/spam.csv\")\n",
    "\n",
    "# Encodage des donnees\n",
    "encodage(\n",
    "    data,\n",
    "    indexes=['Previsions','Temperature','Humidite','Vent','Classe'],\n",
    "    encode_rules={\n",
    "        'Ensoleille':1,'Nuageux':2,'Pluvieux':3,\n",
    "        'Chaud':3,'Moyen':2,'Frais':1,\n",
    "        'Elevee':2,'Normale':1,\n",
    "        'Faible':1,'Fort':2,\n",
    "        'Oui':0,'Non':1\n",
    "    }\n",
    ")\n",
    "# Etablir l'entropie\n",
    "gains(data,'Classe')"
   ]
  },
  {
   "cell_type": "code",
   "execution_count": null,
   "metadata": {},
   "outputs": [],
   "source": []
  }
 ],
 "metadata": {
  "kernelspec": {
   "display_name": "Python 3",
   "language": "python",
   "name": "python3"
  },
  "language_info": {
   "codemirror_mode": {
    "name": "ipython",
    "version": 3
   },
   "file_extension": ".py",
   "mimetype": "text/x-python",
   "name": "python",
   "nbconvert_exporter": "python",
   "pygments_lexer": "ipython3",
   "version": "3.11.2"
  }
 },
 "nbformat": 4,
 "nbformat_minor": 2
}
