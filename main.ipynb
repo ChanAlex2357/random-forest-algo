{
 "cells": [
  {
   "cell_type": "code",
   "execution_count": 3335,
   "metadata": {},
   "outputs": [],
   "source": [
    "import pandas as pd\n",
    "import numpy as np\n",
    "import math"
   ]
  },
  {
   "cell_type": "markdown",
   "metadata": {},
   "source": [
    "# I. Numereisation"
   ]
  },
  {
   "cell_type": "markdown",
   "metadata": {},
   "source": [
    "## 1. Recuperation de donnee"
   ]
  },
  {
   "cell_type": "code",
   "execution_count": 3336,
   "metadata": {},
   "outputs": [],
   "source": [
    "def load_data_from_csv(csv_path:str):\n",
    "    data = pd.read_csv(csv_path)\n",
    "    return data"
   ]
  },
  {
   "cell_type": "markdown",
   "metadata": {},
   "source": [
    "## 2. Encodage"
   ]
  },
  {
   "cell_type": "code",
   "execution_count": 3337,
   "metadata": {},
   "outputs": [],
   "source": [
    "def encodage(data,indexes:list,encode_rules):\n",
    "    ''' Permet de faire l'encodage des donnees \n",
    "        ARGS\n",
    "            - data : la liste des donnees\n",
    "            - indexes : la listes des colonnes a encoder\n",
    "            - encode_rules : un dictionaire des regles a suivre pour encodes la valeur des donnees\n",
    "    '''\n",
    "    for i in range(len(data)):\n",
    "        for index in indexes:\n",
    "            value = data.loc[i,index]\n",
    "            try:\n",
    "                value = encode_rules[index][value]\n",
    "            except :\n",
    "                value = encode_rules[value]\n",
    "            data.loc[i,index] = value"
   ]
  },
  {
   "cell_type": "markdown",
   "metadata": {},
   "source": [
    "# II. Entropie"
   ]
  },
  {
   "cell_type": "code",
   "execution_count": 3338,
   "metadata": {},
   "outputs": [],
   "source": [
    "def entopie_piece(repetion:int,total:int):\n",
    "    result = repetion / total\n",
    "    return result"
   ]
  },
  {
   "cell_type": "code",
   "execution_count": 3339,
   "metadata": {},
   "outputs": [],
   "source": [
    "def entropie(data:pd.DataFrame,class_attribute:str):\n",
    "    ''' Etablir l'entropie a partir d'une colonne de classe \n",
    "        PARAMETERS :\n",
    "            - data : les donnees pour etablir l'entropie\n",
    "            - class_attribute : Le nom de la colonne qui represente les donnee pour l'entropie\n",
    "        RETURN :\n",
    "            - entropie , la valeur entropique des donnees par rapport au colonne donnee\n",
    "    '''\n",
    "    # Le nombre total de donnee\n",
    "    data_lenght = len(data)\n",
    "    # Recuperer les valeurs de la classe\n",
    "    class_values = data[class_attribute]\n",
    "    # Recupere en unique les valeur de la class\n",
    "    class_unique_values = set(class_values)\n",
    "    # Calculer la repetions de chacunes des valeurs parmi les donnees\n",
    "    repetitions = {\n",
    "        valeur: class_values.tolist().count(valeur) \n",
    "        for valeur in class_unique_values\n",
    "    }\n",
    "    # Le resultat attendue\n",
    "    entropie = 0\n",
    "    # Calcul de l'entropie\n",
    "    for value in class_unique_values:\n",
    "        # La piece entropique de la valeur\n",
    "        pc = entopie_piece(repetitions[value],data_lenght)\n",
    "        # Incrementation de la somme\n",
    "        it = -(pc) * math.log2(pc)\n",
    "        entropie += it\n",
    "    return entropie"
   ]
  },
  {
   "cell_type": "markdown",
   "metadata": {},
   "source": [
    "# III. Meilleure Caracteristique"
   ]
  },
  {
   "cell_type": "markdown",
   "metadata": {},
   "source": [
    "## 1. Gain"
   ]
  },
  {
   "cell_type": "markdown",
   "metadata": {},
   "source": [
    "### 1.1. Separation de donnee"
   ]
  },
  {
   "cell_type": "code",
   "execution_count": 3340,
   "metadata": {},
   "outputs": [],
   "source": [
    "def split_data(dataframe,colonne):\n",
    "    \"\"\"\n",
    "    Sépare les données d'un DataFrame selon une colonne spécifique en regroupant les mêmes critères.\n",
    "\n",
    "    Parameters:\n",
    "    dataframe (pd.DataFrame): Le DataFrame contenant les données.\n",
    "    colonne (str): Le nom de la colonne selon laquelle séparer les données.\n",
    "\n",
    "    Returns:\n",
    "    dict: Un dictionnaire où les clés sont les valeurs uniques de la colonne et les valeurs sont les DataFrames correspondants.\n",
    "    \"\"\"\n",
    "    groupes = dataframe.groupby(colonne)\n",
    "    resultats = {nom: groupe for nom , groupe in groupes}\n",
    "    return resultats"
   ]
  },
  {
   "cell_type": "markdown",
   "metadata": {},
   "source": [
    "### 1.2. Fonction de gain"
   ]
  },
  {
   "cell_type": "code",
   "execution_count": 3341,
   "metadata": {},
   "outputs": [],
   "source": [
    "def gain(data:pd.DataFrame,ref_attribute:str,class_attribute:str):\n",
    "    # Entropie de l'ensemble du data\n",
    "    entropie_S = entropie(data,class_attribute)\n",
    "    # Le gain attendue\n",
    "    gain = entropie_S\n",
    "    # Le nombre de donnee total\n",
    "    nS = len(data)\n",
    "    # Separation des donnees en plusieurs sous section de donnee\n",
    "    data_sv = split_data(data,ref_attribute)\n",
    "    for index, data_part in data_sv.items():\n",
    "        # Le nombre de sous section\n",
    "        nSv = len(data_part)\n",
    "        sv = nSv/nS\n",
    "        # Entropie du sous section\n",
    "        entropie_SV = entropie(data_part,class_attribute)\n",
    "\n",
    "        gain -= sv*entropie_SV\n",
    "    return gain"
   ]
  },
  {
   "cell_type": "markdown",
   "metadata": {},
   "source": [
    "## 2. Calculs des GAINS"
   ]
  },
  {
   "cell_type": "code",
   "execution_count": 3342,
   "metadata": {},
   "outputs": [],
   "source": [
    "def gains(data:pd.DataFrame,class_attribute:str):\n",
    "    ''' \n",
    "        Calcul des gains pour chaque critere present parmi les donnees\n",
    "        ARGS :\n",
    "            - data : la liste des donnees d'entrainement\n",
    "            - class_attribute : le nom de la colonne qui prescise la class des donees\n",
    "        RETURNS :\n",
    "            - gains , tableau des couples ( nom critere , gain )\n",
    "    '''\n",
    "    # Resulats > Liste des gains\n",
    "    gains = list()\n",
    "    # Recuperation des criteres possibles\n",
    "    indexes = data.columns\n",
    "    for index in indexes :\n",
    "        if index == class_attribute:\n",
    "            continue\n",
    "        gains.append({index : gain(data,index,class_attribute)})\n",
    "    return gains"
   ]
  },
  {
   "cell_type": "markdown",
   "metadata": {},
   "source": [
    "## 3. Best collumn"
   ]
  },
  {
   "cell_type": "code",
   "execution_count": 3343,
   "metadata": {},
   "outputs": [],
   "source": [
    "def find_best_criteria(data:pd.DataFrame,class_attribute:str):\n",
    "    '''\n",
    "        Calcul le gain d'information de chaque critere de donnee pour determiner le meilleur parmi eux\n",
    "        ARGS :\n",
    "            - data : la liste des donnees d'entrainement\n",
    "            - class_attribute : le nom de la colonne qui prescise la class des donees\n",
    "        RETURNS :\n",
    "            - criteria , le nom du critere qui possede le gain la plus haute apres filtre decroissante\n",
    "    '''\n",
    "    # Recuperation des gains pour chaque criteres\n",
    "    gains_var = gains(data,class_attribute)\n",
    "    # Filtrer decroissant\n",
    "    gains_sorted = sorted(gains_var, key=lambda d : list(d.values())[0])\n",
    "    gains_sorted.reverse()\n",
    "    return [criteria for criteria , gain_value in gains_sorted[0].items()][0]"
   ]
  },
  {
   "cell_type": "markdown",
   "metadata": {},
   "source": [
    "# IV. ARBRE"
   ]
  },
  {
   "cell_type": "markdown",
   "metadata": {},
   "source": [
    "## 1. Creation d'un arbre"
   ]
  },
  {
   "cell_type": "markdown",
   "metadata": {},
   "source": [
    "### 1.1. Creation d'une branche"
   ]
  },
  {
   "cell_type": "code",
   "execution_count": 3344,
   "metadata": {},
   "outputs": [],
   "source": [
    "def generate_tree_branch(splited_data,class_attribute):\n",
    "    branch = {}\n",
    "    for key in splited_data.keys():\n",
    "        # Data de chaque section\n",
    "        data_part = splited_data[key]\n",
    "        # On verifie l'entropie \n",
    "        data_entropie = entropie(data_part,class_attribute)\n",
    "        if data_entropie == 0:\n",
    "            # Pour une entropie homogene\n",
    "            data_class = np.array(data_part[class_attribute])[0]\n",
    "            branch[key] = data_class\n",
    "        else :\n",
    "            branch[key] = generate_tree_body(data_part,class_attribute)\n",
    "    return branch"
   ]
  },
  {
   "cell_type": "markdown",
   "metadata": {},
   "source": [
    "### 1.2. Creation d'un tronc"
   ]
  },
  {
   "cell_type": "code",
   "execution_count": 3345,
   "metadata": {},
   "outputs": [],
   "source": [
    "def generate_tree_body(data:pd.DataFrame,class_attribute:str):\n",
    "    # Recuperer le meilleur critre\n",
    "    best_criteria = find_best_criteria(data,class_attribute)\n",
    "    # The tree decision\n",
    "    tree_body = {\n",
    "        'body_name':best_criteria\n",
    "    }\n",
    "    # Diviser en sous section des donnees du best criteria\n",
    "    splited_data = split_data(data,best_criteria)\n",
    "    # Generate the branches of the body\n",
    "    tree_body['branch'] = generate_tree_branch(splited_data,class_attribute)\n",
    "    return tree_body"
   ]
  },
  {
   "cell_type": "markdown",
   "metadata": {},
   "source": [
    "### 1.3. Tree gen"
   ]
  },
  {
   "cell_type": "code",
   "execution_count": 3346,
   "metadata": {},
   "outputs": [],
   "source": [
    "def generate_tree(data:pd.DataFrame,class_attribute:str):\n",
    "    # The tree decision\n",
    "    tree = {\n",
    "        'class_name':class_attribute,\n",
    "        'tree_body':generate_tree_body(data,class_attribute)\n",
    "    }\n",
    "    return tree"
   ]
  },
  {
   "cell_type": "markdown",
   "metadata": {},
   "source": [
    "## 2. Prise de decision"
   ]
  },
  {
   "cell_type": "code",
   "execution_count": 3347,
   "metadata": {},
   "outputs": [],
   "source": [
    "\n",
    "def get_tree_body_class_result(data:object,tree_body:dict):\n",
    "    body_name = tree_body['body_name']\n",
    "    branch  = tree_body['branch']\n",
    "    # Recuperer le chemin logique du donnee dans l'arbre\n",
    "    branch_path = data[body_name]\n",
    "    try :\n",
    "        class_result = branch[branch_path]\n",
    "        if type(class_result) ==  dict:\n",
    "            class_result = get_tree_body_class_result(data,class_result)\n",
    "    except :\n",
    "        class_result = None\n",
    "    return class_result"
   ]
  },
  {
   "cell_type": "code",
   "execution_count": 3348,
   "metadata": {},
   "outputs": [],
   "source": [
    "def get_class_by_tree(data:object,tree:dict):\n",
    "    # La class a determiner\n",
    "    data_class = None\n",
    "    tree_body = tree['tree_body']\n",
    "    data_class = get_tree_body_class_result(data,tree_body)\n",
    "    return data_class"
   ]
  },
  {
   "cell_type": "markdown",
   "metadata": {},
   "source": [
    "# V. FOREST"
   ]
  },
  {
   "cell_type": "markdown",
   "metadata": {},
   "source": [
    "## 1. Shuffle Data"
   ]
  },
  {
   "cell_type": "code",
   "execution_count": 3349,
   "metadata": {},
   "outputs": [],
   "source": [
    "def shuffle_data(dataframe:pd.DataFrame):\n",
    "    \"\"\"\n",
    "        Retourne une copie mélangée d'un DataFrame.\n",
    "\n",
    "        Parameters:\n",
    "        dataframe (pd.DataFrame): Le DataFrame contenant les données.\n",
    "\n",
    "        Returns:\n",
    "        pd.DataFrame: Une copie mélangée du DataFrame.\n",
    "    \"\"\"\n",
    "    # Mélanger les lignes du DataFrame\n",
    "    dataframe_melange = dataframe.sample(frac=1, random_state=1).reset_index(drop=True)\n",
    "    return dataframe_melange"
   ]
  },
  {
   "cell_type": "markdown",
   "metadata": {},
   "source": [
    "## 2. Data select "
   ]
  },
  {
   "cell_type": "code",
   "execution_count": 3350,
   "metadata": {},
   "outputs": [],
   "source": [
    "def data_select(dataframe:pd.DataFrame, pourcentage:int):\n",
    "    \"\"\"\n",
    "    Récupère un pourcentage donné de lignes d'un DataFrame.\n",
    "\n",
    "    Parameters:\n",
    "    dataframe (pd.DataFrame): Le DataFrame contenant les données.\n",
    "    pourcentage (float): Le pourcentage de lignes à récupérer (entre 0 et 100).\n",
    "\n",
    "    Returns:\n",
    "    pd.DataFrame: Un DataFrame contenant le pourcentage spécifié de lignes.\n",
    "    \"\"\"\n",
    "    if pourcentage < 0 or pourcentage > 100:\n",
    "        raise ValueError(\"Le pourcentage doit être entre 0 et 100.\")\n",
    "    \n",
    "    # Calcul du nombre de lignes à récupérer\n",
    "    nombre_lignes = int(len(dataframe) * (pourcentage / 100))\n",
    "    \n",
    "    # Sélection aléatoire des lignes\n",
    "    echantillon = dataframe.sample(nombre_lignes)\n",
    "    \n",
    "    return echantillon"
   ]
  },
  {
   "cell_type": "markdown",
   "metadata": {},
   "source": [
    "## 3. Random data select"
   ]
  },
  {
   "cell_type": "code",
   "execution_count": 3351,
   "metadata": {},
   "outputs": [],
   "source": [
    "def random_data_select(data:pd.DataFrame,pourcentage:int):\n",
    "    shuffled_data = shuffle_data(data)\n",
    "    echantillon = data_select(shuffled_data,pourcentage)\n",
    "    return echantillon"
   ]
  },
  {
   "cell_type": "markdown",
   "metadata": {},
   "source": [
    "## 4. Forest gen"
   ]
  },
  {
   "cell_type": "code",
   "execution_count": 3352,
   "metadata": {},
   "outputs": [],
   "source": [
    "def generate_forest(train_data:pd.DataFrame,class_attribute:str,pourcentage:int,tree_number:int):\n",
    "    forest = []\n",
    "    for i in range(tree_number):\n",
    "        echantillon = random_data_select(train_data,pourcentage)\n",
    "        tree = generate_tree(echantillon,class_attribute)\n",
    "        forest.append(tree)\n",
    "    return forest"
   ]
  },
  {
   "cell_type": "markdown",
   "metadata": {},
   "source": [
    "## 5. Forest decision"
   ]
  },
  {
   "cell_type": "code",
   "execution_count": 3353,
   "metadata": {},
   "outputs": [],
   "source": [
    "def get_class_by_forest(data:pd.DataFrame,forest):\n",
    "    data_class = None\n",
    "    \n",
    "    tree_decisions = {}\n",
    "    for tree in forest:\n",
    "        tmp_class = get_class_by_tree(data,tree)\n",
    "        if tmp_class in tree_decisions.keys():\n",
    "            tree_decisions[tmp_class] += 1\n",
    "        else:\n",
    "            tree_decisions[tmp_class] = 1\n",
    "    print(tree_decisions)\n",
    "    max_count = 0\n",
    "    for clazz in tree_decisions.keys():\n",
    "        local_class_count = tree_decisions[clazz]\n",
    "        if max_count < local_class_count:\n",
    "            data_class = clazz\n",
    "            max_count = local_class_count\n",
    "    return data_class"
   ]
  },
  {
   "cell_type": "markdown",
   "metadata": {},
   "source": [
    "# Main"
   ]
  },
  {
   "cell_type": "markdown",
   "metadata": {},
   "source": [
    "## MAIN FOREST"
   ]
  },
  {
   "cell_type": "code",
   "execution_count": 3354,
   "metadata": {},
   "outputs": [
    {
     "name": "stdout",
     "output_type": "stream",
     "text": [
      "[{'class_name': 'Classe', 'tree_body': {'body_name': 'Vent', 'branch': {'Faible': 'Oui', 'Fort': 'Oui'}}}, {'class_name': 'Classe', 'tree_body': {'body_name': 'Previsions', 'branch': {'Ensoleille': {'body_name': 'Humidite', 'branch': {'Elevee': 'Non', 'Normale': 'Oui'}}, 'Nuageux': 'Oui', 'Pluvieux': 'Non'}}}, {'class_name': 'Classe', 'tree_body': {'body_name': 'Previsions', 'branch': {'Ensoleille': 'Non', 'Nuageux': 'Oui', 'Pluvieux': {'body_name': 'Vent', 'branch': {'Faible': 'Oui', 'Fort': 'Non'}}}}}, {'class_name': 'Classe', 'tree_body': {'body_name': 'Humidite', 'branch': {'Elevee': 'Non', 'Normale': 'Oui'}}}, {'class_name': 'Classe', 'tree_body': {'body_name': 'Humidite', 'branch': {'Elevee': 'Non', 'Normale': 'Oui'}}}, {'class_name': 'Classe', 'tree_body': {'body_name': 'Temperature', 'branch': {'Chaud': 'Oui', 'Frais': 'Non', 'Moyen': {'body_name': 'Previsions', 'branch': {'Ensoleille': 'Non', 'Pluvieux': 'Oui'}}}}}, {'class_name': 'Classe', 'tree_body': {'body_name': 'Temperature', 'branch': {'Chaud': 'Oui', 'Frais': {'body_name': 'Vent', 'branch': {'Faible': 'Oui', 'Fort': 'Non'}}, 'Moyen': 'Non'}}}, {'class_name': 'Classe', 'tree_body': {'body_name': 'Previsions', 'branch': {'Ensoleille': 'Oui', 'Nuageux': 'Oui', 'Pluvieux': {'body_name': 'Vent', 'branch': {'Faible': 'Oui', 'Fort': 'Non'}}}}}, {'class_name': 'Classe', 'tree_body': {'body_name': 'Humidite', 'branch': {'Elevee': {'body_name': 'Previsions', 'branch': {'Ensoleille': 'Non', 'Nuageux': 'Oui'}}, 'Normale': 'Oui'}}}, {'class_name': 'Classe', 'tree_body': {'body_name': 'Vent', 'branch': {'Faible': 'Oui', 'Fort': {'body_name': 'Humidite', 'branch': {'Elevee': 'Non', 'Normale': 'Oui'}}}}}]\n",
      "{'Oui': 5, 'Non': 5}\n"
     ]
    },
    {
     "data": {
      "text/plain": [
       "'Oui'"
      ]
     },
     "execution_count": 3354,
     "metadata": {},
     "output_type": "execute_result"
    }
   ],
   "source": [
    "# Recuperation des donnees\n",
    "data = load_data_from_csv(\"data/spam.csv\")\n",
    "pourcentage = 40\n",
    "tree_number = 10\n",
    "class_attribute = 'Classe'\n",
    "# Encodage des donnees\n",
    "# encodage(\n",
    "#     data,\n",
    "#     indexes=['Previsions','Temperature','Humidite','Vent','Classe'],\n",
    "#     encode_rules={\n",
    "#         'Ensoleille':1,'Nuageux':2,'Pluvieux':3,\n",
    "#         'Chaud':3,'Moyen':2,'Frais':1,\n",
    "#         'Elevee':2,'Normale':1,\n",
    "#         'Faible':1,'Fort':2,\n",
    "#         'Oui':0,'Non':1\n",
    "#     }\n",
    "# )\n",
    "forest = generate_forest(data,class_attribute,pourcentage,tree_number)\n",
    "print(forest)\n",
    "get_class_by_forest(data.loc[5],forest)"
   ]
  },
  {
   "cell_type": "markdown",
   "metadata": {},
   "source": [
    "## MAIN TREE"
   ]
  },
  {
   "cell_type": "code",
   "execution_count": 3355,
   "metadata": {},
   "outputs": [
    {
     "name": "stdout",
     "output_type": "stream",
     "text": [
      "{'class_name': 'Classe', 'tree_body': {'body_name': 'Previsions', 'branch': {'Ensoleille': {'body_name': 'Humidite', 'branch': {'Elevee': 'Non', 'Normale': 'Oui'}}, 'Nuageux': 'Oui', 'Pluvieux': {'body_name': 'Vent', 'branch': {'Faible': 'Oui', 'Fort': 'Non'}}}}}\n",
      "Non\n",
      "Non\n",
      "Oui\n",
      "Oui\n",
      "Oui\n",
      "Non\n",
      "Oui\n",
      "Non\n",
      "Oui\n",
      "Oui\n",
      "Oui\n",
      "Oui\n",
      "Oui\n",
      "Non\n"
     ]
    }
   ],
   "source": [
    "# Recuperation des donnees\n",
    "data = load_data_from_csv(\"data/spam.csv\")\n",
    "# Encodage des donnees\n",
    "# encodage (\n",
    "#     data,\n",
    "#     indexes=['Previsions','Temperature','Humidite','Vent','Classe'],\n",
    "#     encode_rules={\n",
    "#         'Ensoleille':1,'Nuageux':2,'Pluvieux':3,\n",
    "#         'Chaud':3,'Moyen':2,'Frais':1,\n",
    "#         'Elevee':2,'Normale':1,\n",
    "#         'Faible':1,'Fort':2,\n",
    "#         'Oui':0,'Non':1\n",
    "#     }\n",
    "# )\n",
    "# Creation d'un arbre\n",
    "tree = generate_tree(data,'Classe')\n",
    "# Classer a partir d'un arbre\n",
    "print(tree)\n",
    "for i in range(len(data)):    \n",
    "    classification = get_class_by_tree(data.loc[i],tree)\n",
    "    print(classification)"
   ]
  }
 ],
 "metadata": {
  "kernelspec": {
   "display_name": "Python 3",
   "language": "python",
   "name": "python3"
  },
  "language_info": {
   "codemirror_mode": {
    "name": "ipython",
    "version": 3
   },
   "file_extension": ".py",
   "mimetype": "text/x-python",
   "name": "python",
   "nbconvert_exporter": "python",
   "pygments_lexer": "ipython3",
   "version": "3.11.2"
  }
 },
 "nbformat": 4,
 "nbformat_minor": 2
}
